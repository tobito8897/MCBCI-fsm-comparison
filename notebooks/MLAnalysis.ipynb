{
 "cells": [
  {
   "cell_type": "code",
   "execution_count": null,
   "id": "canadian-stability",
   "metadata": {},
   "outputs": [],
   "source": [
    "import sys\n",
    "sys.path.append(\"../\")\n",
    "from utils.ml_pipeline import k_folds_stratified_nn, get_es_callback\n",
    "from utils.customized_utils import prepare_data_for_ml\n",
    "from utils.file_managers import get_json_content\n",
    "from utils.explainers import FeaturesImportance\n",
    "from utils.file_managers import write_pickle, read_pickle\n",
    "from utils.parameters import *\n",
    "\n",
    "explainer = \"reciprocalranking\"\n",
    "model = \"knn\"\n",
    "\n",
    "ictal_path = \"../ProcessedData/Common/Ictal/\"\n",
    "noictal_path = \"../ProcessedData/Common/NoIctal/\"\n",
    "features_map_file = \"../HelperFiles/features_map.json\"\n",
    "output_directory = \"../MLData/\"\n",
    "top_dir = output_directory + \"/TopFeatures/top_%s_%s.pickle\" % (model, explainer)\n",
    "train_kwargs[\"ann\"][\"callbacks\"] = get_es_callback()\n",
    "\n",
    "features_map = get_json_content(features_map_file)\n",
    "data, labels = prepare_data_for_ml(ictal_path, noictal_path)\n",
    "print(data.shape)"
   ]
  },
  {
   "cell_type": "code",
   "execution_count": null,
   "id": "returning-shelf",
   "metadata": {
    "scrolled": true
   },
   "outputs": [],
   "source": [
    "FImp = FeaturesImportance(data, labels, 200,\n",
    "                          output_directory, features_map)\n",
    "importances = FImp(explainer, model, max_features, start_kwargs[model],\n",
    "                   train_kwargs[model])\n",
    "write_pickle(top_dir, importances)"
   ]
  },
  {
   "cell_type": "code",
   "execution_count": 3,
   "id": "pursuant-extension",
   "metadata": {},
   "outputs": [],
   "source": [
    "importances = read_pickle(top_dir)\n",
    "for top in top_features:\n",
    "    k_folds_stratified_nn(model, repetitions, data, labels, output_directory,\n",
    "                          features_map, top, explainer, importances, start_kwargs[model],\n",
    "                          train_kwargs[model])"
   ]
  }
 ],
 "metadata": {
  "kernelspec": {
   "display_name": "Python 3",
   "language": "python",
   "name": "python3"
  },
  "language_info": {
   "codemirror_mode": {
    "name": "ipython",
    "version": 3
   },
   "file_extension": ".py",
   "mimetype": "text/x-python",
   "name": "python",
   "nbconvert_exporter": "python",
   "pygments_lexer": "ipython3",
   "version": "3.7.5"
  }
 },
 "nbformat": 4,
 "nbformat_minor": 5
}
