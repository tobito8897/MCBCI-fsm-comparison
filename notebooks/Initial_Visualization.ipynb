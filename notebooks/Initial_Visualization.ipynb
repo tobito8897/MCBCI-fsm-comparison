{
 "cells": [
  {
   "cell_type": "code",
   "execution_count": null,
   "id": "neural-cover",
   "metadata": {},
   "outputs": [],
   "source": [
    "import sys\n",
    "sys.path.append(\"../\")\n",
    "from utils.file_managers import get_edf_content, get_json_content\n",
    "from utils.customized_utils import fast_eeg_plot_plus_label, fast_eeg_plot_psd"
   ]
  },
  {
   "cell_type": "markdown",
   "id": "signed-thumb",
   "metadata": {},
   "source": [
    "### *Siena Database*"
   ]
  },
  {
   "cell_type": "code",
   "execution_count": null,
   "id": "needed-awareness",
   "metadata": {},
   "outputs": [],
   "source": [
    "file_name = \"/mnt/c/Users/tobit/Documents/MaestriaTrabajos/ProyectosAparte/RFE_SHAP_Article/\"\\\n",
    "             \"Data/SienaRaw/PN00/PN00-1.edf\"\n",
    "metadata_file = \"../etc/metadata_siena.json\"\n",
    "period = (1135, 1150)         #Period to plot in seconds\n",
    "freq_period = (0, 70)\n",
    "interest_channels = [\"3\", \"4\"]       #Channels to plot in seconds\n",
    "\n",
    "eeg = get_edf_content(file_name)\n",
    "meta = get_json_content(metadata_file)"
   ]
  },
  {
   "cell_type": "code",
   "execution_count": null,
   "id": "outer-yesterday",
   "metadata": {},
   "outputs": [],
   "source": [
    "fast_eeg_plot_plus_label(file_name, period, interest_channels,\n",
    "                         eeg, meta, None)"
   ]
  },
  {
   "cell_type": "code",
   "execution_count": null,
   "id": "sublime-socket",
   "metadata": {},
   "outputs": [],
   "source": [
    "fast_eeg_plot_psd(file_name, freq_period, interest_channels, eeg*100, meta, None)"
   ]
  },
  {
   "cell_type": "markdown",
   "id": "acquired-sugar",
   "metadata": {},
   "source": [
    "### *CHB-MIT Database*"
   ]
  },
  {
   "cell_type": "code",
   "execution_count": null,
   "id": "herbal-conditioning",
   "metadata": {},
   "outputs": [],
   "source": [
    "file_name = \"/mnt/c/Users/tobit/Documents/MaestriaTrabajos/ProyectosAparte/RFE_SHAP_Article/\"\\\n",
    "             \"Data/ChbmitRaw/chb01_03.edf\"\n",
    "metadata_file = \"../etc/metadata_chb-mit.json\"\n",
    "period = (2980, 3000)               #Period to plot in seconds\n",
    "freq_period = (0, 70)\n",
    "interest_channels = [\"3\", \"4\"]       #Channels to plot in seconds\n",
    "\n",
    "eeg = get_edf_content(file_name)\n",
    "meta = get_json_content(metadata_file)"
   ]
  },
  {
   "cell_type": "code",
   "execution_count": null,
   "id": "homeless-symphony",
   "metadata": {},
   "outputs": [],
   "source": [
    "fast_eeg_plot_plus_label(file_name, period, interest_channels,\n",
    "                         eeg, meta, None)"
   ]
  },
  {
   "cell_type": "code",
   "execution_count": null,
   "id": "final-sucking",
   "metadata": {},
   "outputs": [],
   "source": [
    "fast_eeg_plot_psd(file_name, freq_period, interest_channels, eeg*100, meta, None)"
   ]
  }
 ],
 "metadata": {
  "kernelspec": {
   "display_name": "Python 3",
   "language": "python",
   "name": "python3"
  },
  "language_info": {
   "codemirror_mode": {
    "name": "ipython",
    "version": 3
   },
   "file_extension": ".py",
   "mimetype": "text/x-python",
   "name": "python",
   "nbconvert_exporter": "python",
   "pygments_lexer": "ipython3",
   "version": "3.7.5"
  }
 },
 "nbformat": 4,
 "nbformat_minor": 5
}
