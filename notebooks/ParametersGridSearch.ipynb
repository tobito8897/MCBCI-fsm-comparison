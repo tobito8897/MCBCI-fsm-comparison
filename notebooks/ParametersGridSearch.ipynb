{
 "cells": [
  {
   "cell_type": "code",
   "execution_count": null,
   "id": "chinese-sculpture",
   "metadata": {},
   "outputs": [],
   "source": [
    "import sys\n",
    "sys.path.append(\"../\")\n",
    "from utils import settings\n",
    "from utils.file_managers import read_pickle\n",
    "from IPython.core.display import HTML\n",
    "import pandas as pd\n",
    "\n",
    "feature_set = 2\n",
    "model = \"forest\"\n",
    "output_path = settings[\"chb-mit\"][\"grid_search\"].format(feature_set)\n",
    "results_dir = output_path + \"grid_%s.pickle\" % (model)"
   ]
  },
  {
   "cell_type": "code",
   "execution_count": null,
   "id": "tough-watch",
   "metadata": {
    "scrolled": true
   },
   "outputs": [],
   "source": [
    "results = pd.DataFrame(read_pickle(results_dir))\n",
    "results = results.sort_values([\"rank_test_score\"])\n",
    "display(HTML(results.to_html()))"
   ]
  }
 ],
 "metadata": {
  "kernelspec": {
   "display_name": "Python 3",
   "language": "python",
   "name": "python3"
  },
  "language_info": {
   "codemirror_mode": {
    "name": "ipython",
    "version": 3
   },
   "file_extension": ".py",
   "mimetype": "text/x-python",
   "name": "python",
   "nbconvert_exporter": "python",
   "pygments_lexer": "ipython3",
   "version": "3.7.5"
  }
 },
 "nbformat": 4,
 "nbformat_minor": 5
}
