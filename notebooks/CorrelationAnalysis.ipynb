{
 "cells": [
  {
   "cell_type": "code",
   "execution_count": null,
   "id": "chinese-sculpture",
   "metadata": {},
   "outputs": [],
   "source": [
    "import sys\n",
    "sys.path.append(\"../\")\n",
    "from utils import settings\n",
    "from utils.file_managers import read_pickle\n",
    "from IPython.core.display import HTML\n",
    "import pandas as pd\n",
    "\n",
    "feature_set = 1\n",
    "database = \"siena\""
   ]
  },
  {
   "cell_type": "code",
   "execution_count": null,
   "id": "tough-watch",
   "metadata": {
    "scrolled": true
   },
   "outputs": [],
   "source": [
    "results_dir = settings[database][\"correlation\"].format(feature_set)\n",
    "results = pd.DataFrame(read_pickle(results_dir))\n",
    "filtered_results = results[results[\"Pearson_coeff\"] > 0.95]\n",
    "filtered_results = filtered_results.sort_values([\"Pearson_coeff\"])\n",
    "print(filtered_results.shape)\n",
    "display(HTML(filtered_results.to_html()))"
   ]
  }
 ],
 "metadata": {
  "kernelspec": {
   "display_name": "Python 3",
   "language": "python",
   "name": "python3"
  },
  "language_info": {
   "codemirror_mode": {
    "name": "ipython",
    "version": 3
   },
   "file_extension": ".py",
   "mimetype": "text/x-python",
   "name": "python",
   "nbconvert_exporter": "python",
   "pygments_lexer": "ipython3",
   "version": "3.7.5"
  }
 },
 "nbformat": 4,
 "nbformat_minor": 5
}
