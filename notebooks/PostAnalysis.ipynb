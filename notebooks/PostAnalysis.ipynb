{
 "cells": [
  {
   "cell_type": "code",
   "execution_count": null,
   "id": "instant-medline",
   "metadata": {},
   "outputs": [],
   "source": [
    "import os\n",
    "import sys\n",
    "sys.path.append(\"../\")\n",
    "from utils import settings\n",
    "from utils.file_managers import get_json_content\n",
    "from utils.customized_utils import get_top_chart, get_feature_elimination_chart,\\\n",
    "                                   confusion_matrix, get_rfe_comparison_chart,\\\n",
    "                                   get_accuracy_distribution, get_friedman_chart,\\\n",
    "                                   get_jaccard_matrix, get_representative_slices, \\\n",
    "                                   execute_test_5x2_ftest, get_jaccard_matrix_chb_vs_siena"
   ]
  },
  {
   "cell_type": "code",
   "execution_count": null,
   "id": "military-necessity",
   "metadata": {},
   "outputs": [],
   "source": [
    "database = \"chb-mit\"\n",
    "feature_set = 1\n",
    "\n",
    "settings = settings[database]\n",
    "stats_directory = settings[\"stats\"].format(feature_set)\n",
    "base_directory = os.path.join(stats_directory, \"..\")\n",
    "features_map_file = settings[\"features_map_file\"].format(feature_set)\n",
    "classes = [\"ictal\", \"no_ictal\"]"
   ]
  },
  {
   "cell_type": "code",
   "execution_count": null,
   "id": "protective-setting",
   "metadata": {
    "scrolled": true
   },
   "outputs": [],
   "source": [
    "get_representative_slices(base_directory,\n",
    "                          [\"ann\", \"svm\", \"tree\", \"forest\", \"knn\"],\n",
    "                          [\"tree\", \"svm\", \"lime\", \"shap\", \"embeddedrandomforest\", \"reciprocalranking\"],\n",
    "                         start=450, end=50, num_slices=4)"
   ]
  },
  {
   "cell_type": "code",
   "execution_count": null,
   "id": "becoming-teach",
   "metadata": {
    "scrolled": true
   },
   "outputs": [],
   "source": [
    "confusion_matrix(base_directory, classes, 100, \"knn\", \"tree\")"
   ]
  },
  {
   "cell_type": "code",
   "execution_count": null,
   "id": "sexual-choice",
   "metadata": {
    "scrolled": false
   },
   "outputs": [],
   "source": [
    "fs_model = \"reciprocalranking\"\n",
    "ml_model = \"ann\"\n",
    "num_features = 5\n",
    "image_name = \"../../Images/features_fs_{}_db_{}_fsm_{}_ml_{}.png\".format(feature_set, database,\n",
    "                                                                         fs_model, ml_model)\n",
    "\n",
    "print(f\"Valor asignado a los {num_features} atributos más relevantes, se usa {fs_model}\\n\"\\\n",
    "\"como seleccionador de características.\")\n",
    "features_map = get_json_content(features_map_file)\n",
    "get_top_chart(base_directory, features_map, num_features, ml_model, fs_model, image_name)"
   ]
  },
  {
   "cell_type": "code",
   "execution_count": null,
   "id": "material-breed",
   "metadata": {},
   "outputs": [],
   "source": [
    "fs_model = \"reciprocalranking\"\n",
    "classifier = \"knn\"\n",
    "image_name = \"../../Images/RFE_fs_{}_db_{}_fsm_{}_ml_{}.png\".format(feature_set, database,\n",
    "                                                                    fs_model, classifier)\n",
    "\n",
    "print(f\"Desempeño al usar los X atributos más importantes. Se usa {fs_model} como clasificador\\n\"\n",
    "f\"y {classifier} como seleccionador de características.\")\n",
    "get_feature_elimination_chart(base_directory, classifier, fs_model, image_name)"
   ]
  },
  {
   "cell_type": "code",
   "execution_count": null,
   "id": "heated-sauce",
   "metadata": {
    "scrolled": false
   },
   "outputs": [],
   "source": [
    "classifier = [\"tree\", \"svm\", \"ann\", \"forest\", \"knn\"]\n",
    "image_name = \"../../Images/AccuracyOverFeatures_fs_{}_db_{}.png\".format(feature_set, database)\n",
    "\n",
    "print(\"Desempeño para diferente cantidad de atributos y métodos de selección de características.\\n\"\\\n",
    "f\"Se usa {classifier} como clasificador.\")\n",
    "get_rfe_comparison_chart(base_directory, classifier,\n",
    "                         [\"tree\", \"svm\", \"lime\", \"shap\", \"embeddedrandomforest\", \"reciprocalranking\"],\n",
    "                         image_name)"
   ]
  },
  {
   "cell_type": "code",
   "execution_count": null,
   "id": "democratic-tanzania",
   "metadata": {},
   "outputs": [],
   "source": [
    "features_slices = [500, 150, 100, 50]\n",
    "image_name = \"../../Images/AccuracyComp_fs_{}_db_{}.png\".format(feature_set, database)\n",
    "\n",
    "print(\"Precisión obtenida mediante las diversas combinaciones de modelos clasificadores\\n\"\\\n",
    "f\"y seleccionadores de características. Se usa el top {features_slices} de atributos.\")\n",
    "get_accuracy_distribution(base_directory, features_slices, save=image_name)"
   ]
  },
  {
   "cell_type": "code",
   "execution_count": null,
   "id": "downtown-basketball",
   "metadata": {},
   "outputs": [],
   "source": [
    "features_slices = [500, 150, 100, 50]\n",
    "image_name = \"../../Images/FriedmanChart_fs_{}_db_{}.png\".format(feature_set, database)\n",
    "\n",
    "print(f\"Comparación entre modelos de selección de características; se muestra el ranking de Friedman,\\n\"\n",
    "\"que es el ranking (de acuerdo al performance) promedio del modelo seleccionador\\n\"\\\n",
    "f\"al usar diversos clasificadores y los {features_slices} atributos más importantes. En el\\n\"\\\n",
    "\"otro eje se muestra la desviación estándar del ranking.\")\n",
    "get_friedman_chart(base_directory, features_slices, save=image_name)"
   ]
  },
  {
   "cell_type": "code",
   "execution_count": null,
   "id": "authentic-jimmy",
   "metadata": {
    "scrolled": false
   },
   "outputs": [],
   "source": [
    "features_slices = [500, 25, 12, 6]\n",
    "_model = \"tree\"\n",
    "image_name = \"../../Images/FriedmanChart{}_fs_{}_db_{}.png\".format(_model, feature_set, database)\n",
    "\n",
    "print(f\"Comparación de los {features_slices} atributos de mayor importancia de acuerdo con cada\\n\"\\\n",
    "\"modelo seleccionador de características. La similitud se calcula mediante el índice de Jaccard.\")\n",
    "features_map = get_json_content(features_map_file)\n",
    "get_jaccard_matrix(base_directory, features_map, features_slices, _model,\n",
    "                   [\"tree\", \"svm\", \"lime\", \"shap\", \"embeddedrandomforest\",\n",
    "                    \"reciprocalranking\"], save=image_name)"
   ]
  },
  {
   "cell_type": "code",
   "execution_count": null,
   "id": "existing-variety",
   "metadata": {},
   "outputs": [],
   "source": [
    "features_slices = [500, 25, 12, 6]\n",
    "_model = \"knn\"\n",
    "image_name = \"../../Images/JaccardIndex{}_fs_{}.png\".format(_model, feature_set)\n",
    "chbmit_path = \"../../mldata/MLDataChbmit_fs{}/\".format(feature_set)\n",
    "siena_path = \"../../mldata/MLDataSiena_fs1{}/\".format(feature_set)\n",
    "\n",
    "print(f\"Comparación de los {features_slices} atributos de mayor importancia de acuerdo con cada\\n\"\\\n",
    "\"modelo seleccionador de características. La similitud se calcula mediante el índice de Jaccard.\")\n",
    "features_map = get_json_content(features_map_file)\n",
    "get_jaccard_matrix_chb_vs_siena(chbmit_path, siena_path, features_map, features_slices, _model,\n",
    "                               [\"tree\", \"svm\", \"lime\", \"shap\", \"embeddedrandomforest\",\n",
    "                                \"reciprocalranking\"], save=image_name)"
   ]
  },
  {
   "cell_type": "code",
   "execution_count": null,
   "id": "existing-montreal",
   "metadata": {},
   "outputs": [],
   "source": [
    "classification_method = \"knn\"\n",
    "best_fsm = \"embeddedrandomforest\"\n",
    "num_features = \"6\"\n",
    "compare_with = \"reciprocalranking\"\n",
    "\n",
    "execute_test_5x2_ftest(base_directory, classification_method, best_fsm, compare_with, num_features)"
   ]
  }
 ],
 "metadata": {
  "kernelspec": {
   "display_name": "Python 3",
   "language": "python",
   "name": "python3"
  },
  "language_info": {
   "codemirror_mode": {
    "name": "ipython",
    "version": 3
   },
   "file_extension": ".py",
   "mimetype": "text/x-python",
   "name": "python",
   "nbconvert_exporter": "python",
   "pygments_lexer": "ipython3",
   "version": "3.7.5"
  }
 },
 "nbformat": 4,
 "nbformat_minor": 5
}
